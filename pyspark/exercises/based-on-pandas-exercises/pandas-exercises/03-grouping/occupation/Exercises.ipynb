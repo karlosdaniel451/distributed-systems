{
 "cells": [
  {
   "cell_type": "markdown",
   "metadata": {},
   "source": [
    "# Occupation"
   ]
  },
  {
   "cell_type": "markdown",
   "metadata": {},
   "source": [
    "### Introduction:\n",
    "\n",
    "Special thanks to: https://github.com/justmarkham for sharing the dataset and materials.\n",
    "\n",
    "### Step 1. Import the necessary libraries"
   ]
  },
  {
   "cell_type": "code",
   "execution_count": 1,
   "metadata": {
    "collapsed": false
   },
   "outputs": [],
   "source": [
    "from pyspark.sql import SparkSession\n",
    "from pyspark.sql import functions as F\n",
    "from pyspark.sql import types as T"
   ]
  },
  {
   "cell_type": "code",
   "execution_count": 2,
   "metadata": {},
   "outputs": [
    {
     "name": "stdout",
     "output_type": "stream",
     "text": [
      "23/03/03 20:23:29 WARN Utils: Your hostname, karlos-300E5M-300E5L resolves to a loopback address: 127.0.1.1; using 192.168.10.20 instead (on interface enp1s0)\n",
      "23/03/03 20:23:29 WARN Utils: Set SPARK_LOCAL_IP if you need to bind to another address\n"
     ]
    },
    {
     "name": "stderr",
     "output_type": "stream",
     "text": [
      "Setting default log level to \"WARN\".\n",
      "To adjust logging level use sc.setLogLevel(newLevel). For SparkR, use setLogLevel(newLevel).\n"
     ]
    },
    {
     "name": "stdout",
     "output_type": "stream",
     "text": [
      "23/03/03 20:23:30 WARN NativeCodeLoader: Unable to load native-hadoop library for your platform... using builtin-java classes where applicable\n"
     ]
    }
   ],
   "source": [
    "spark = SparkSession.builder \\\n",
    "    .appName('Spark exercises based on pandas exercises') \\\n",
    "    .getOrCreate()"
   ]
  },
  {
   "cell_type": "markdown",
   "metadata": {},
   "source": [
    "### Step 2. Import the dataset from this [address](https://raw.githubusercontent.com/justmarkham/DAT8/master/data/u.user). "
   ]
  },
  {
   "cell_type": "markdown",
   "metadata": {},
   "source": [
    "### Step 3. Assign it to a variable called users."
   ]
  },
  {
   "cell_type": "code",
   "execution_count": 3,
   "metadata": {
    "collapsed": false
   },
   "outputs": [
    {
     "name": "stderr",
     "output_type": "stream",
     "text": [
      "[Stage 0:>                                                          (0 + 1) / 1]\r"
     ]
    },
    {
     "name": "stdout",
     "output_type": "stream",
     "text": [
      "+-------+---+------+-------------+--------+\n",
      "|user_id|age|gender|   occupation|zip_code|\n",
      "+-------+---+------+-------------+--------+\n",
      "|      1| 24|     M|   technician|   85711|\n",
      "|      2| 53|     F|        other|   94043|\n",
      "|      3| 23|     M|       writer|   32067|\n",
      "|      4| 24|     M|   technician|   43537|\n",
      "|      5| 33|     F|        other|   15213|\n",
      "|      6| 42|     M|    executive|   98101|\n",
      "|      7| 57|     M|administrator|   91344|\n",
      "|      8| 36|     M|administrator|    5201|\n",
      "|      9| 29|     M|      student|    1002|\n",
      "|     10| 53|     M|       lawyer|   90703|\n",
      "|     11| 39|     F|        other|   30329|\n",
      "|     12| 28|     F|        other|    6405|\n",
      "|     13| 47|     M|     educator|   29206|\n",
      "|     14| 45|     M|    scientist|   55106|\n",
      "|     15| 49|     F|     educator|   97301|\n",
      "|     16| 21|     M|entertainment|   10309|\n",
      "|     17| 30|     M|   programmer|    6355|\n",
      "|     18| 35|     F|        other|   37212|\n",
      "|     19| 40|     M|    librarian|    2138|\n",
      "|     20| 42|     F|    homemaker|   95660|\n",
      "+-------+---+------+-------------+--------+\n",
      "only showing top 20 rows\n",
      "\n"
     ]
    },
    {
     "name": "stderr",
     "output_type": "stream",
     "text": [
      "                                                                                \r"
     ]
    }
   ],
   "source": [
    "from pyspark import SparkFiles\n",
    "\n",
    "URL = 'https://raw.githubusercontent.com/justmarkham/DAT8/master/data/u.user'\n",
    "\n",
    "spark.sparkContext.addFile(URL)\n",
    "\n",
    "schema = T.StructType([\n",
    "    T.StructField('user_id', T.IntegerType()),\n",
    "    T.StructField('age', T.IntegerType()),\n",
    "    T.StructField('gender', T.StringType()),\n",
    "    T.StructField('occupation', T.StringType()),\n",
    "    T.StructField('zip_code', T.IntegerType())\n",
    "])\n",
    "\n",
    "users = spark.read.csv(\n",
    "    path='file://'+SparkFiles.get('u.user'),\n",
    "    sep='|',\n",
    "    header=True,\n",
    "    schema=schema,\n",
    "    mode='FAILFAST'\n",
    ")\n",
    "\n",
    "users.show()"
   ]
  },
  {
   "cell_type": "markdown",
   "metadata": {},
   "source": [
    "### Step 4. Discover what is the mean age per occupation"
   ]
  },
  {
   "cell_type": "code",
   "execution_count": 23,
   "metadata": {},
   "outputs": [
    {
     "name": "stdout",
     "output_type": "stream",
     "text": [
      "number_of_occupations = 21\n"
     ]
    }
   ],
   "source": [
    "## First, let's find out how many occuptions there are.\n",
    "\n",
    "number_of_occupations = users.select('occupation').distinct().count()\n",
    "print(f'{number_of_occupations = }')"
   ]
  },
  {
   "cell_type": "code",
   "execution_count": 24,
   "metadata": {},
   "outputs": [
    {
     "name": "stdout",
     "output_type": "stream",
     "text": [
      "+---------------------+\n",
      "|number_of_occupations|\n",
      "+---------------------+\n",
      "|                   21|\n",
      "+---------------------+\n",
      "\n"
     ]
    }
   ],
   "source": [
    "## Alternative:\n",
    "\n",
    "users.selectExpr('COUNT(DISTINCT occupation) number_of_occupations') \\\n",
    "    .show()"
   ]
  },
  {
   "cell_type": "code",
   "execution_count": 55,
   "metadata": {
    "collapsed": false
   },
   "outputs": [
    {
     "name": "stdout",
     "output_type": "stream",
     "text": [
      "+-------------+--------+\n",
      "|occupation   |mean age|\n",
      "+-------------+--------+\n",
      "|retired      |63.1    |\n",
      "|doctor       |43.6    |\n",
      "|educator     |42.0    |\n",
      "|healthcare   |41.6    |\n",
      "|librarian    |40.0    |\n",
      "|administrator|38.7    |\n",
      "|executive    |38.7    |\n",
      "|marketing    |37.6    |\n",
      "|lawyer       |36.8    |\n",
      "|engineer     |36.4    |\n",
      "|writer       |36.3    |\n",
      "|salesman     |35.7    |\n",
      "|scientist    |35.5    |\n",
      "|other        |34.5    |\n",
      "|programmer   |33.1    |\n",
      "|technician   |33.1    |\n",
      "|homemaker    |32.6    |\n",
      "|artist       |31.4    |\n",
      "|entertainment|29.2    |\n",
      "|none         |26.6    |\n",
      "|student      |22.1    |\n",
      "+-------------+--------+\n",
      "\n"
     ]
    }
   ],
   "source": [
    "users.groupBy('occupation') \\\n",
    "    .agg(F.round(F.mean('age'), 1).alias('mean age')) \\\n",
    "    .orderBy('mean age', ascending=False) \\\n",
    "    .show(number_of_occupations, truncate=False)"
   ]
  },
  {
   "cell_type": "markdown",
   "metadata": {},
   "source": [
    "### Step 5. Discover the Male ratio per occupation and sort it from the most to the least"
   ]
  },
  {
   "cell_type": "code",
   "execution_count": 72,
   "metadata": {
    "collapsed": false
   },
   "outputs": [
    {
     "name": "stdout",
     "output_type": "stream",
     "text": [
      "+-------------+------+-----+\n",
      "|   occupation|gender|count|\n",
      "+-------------+------+-----+\n",
      "|administrator|     M|   43|\n",
      "|administrator|     F|   36|\n",
      "|       artist|     F|   13|\n",
      "|       artist|     M|   15|\n",
      "|       doctor|     M|    7|\n",
      "|     educator|     M|   69|\n",
      "|     educator|     F|   26|\n",
      "|     engineer|     M|   65|\n",
      "|     engineer|     F|    2|\n",
      "|entertainment|     F|    2|\n",
      "|entertainment|     M|   16|\n",
      "|    executive|     M|   29|\n",
      "|    executive|     F|    3|\n",
      "|   healthcare|     M|    5|\n",
      "|   healthcare|     F|   11|\n",
      "|    homemaker|     F|    6|\n",
      "|    homemaker|     M|    1|\n",
      "|       lawyer|     F|    2|\n",
      "|       lawyer|     M|   10|\n",
      "|    librarian|     M|   22|\n",
      "+-------------+------+-----+\n",
      "only showing top 20 rows\n",
      "\n"
     ]
    }
   ],
   "source": [
    "users.groupBy('occupation', 'gender') \\\n",
    "    .count() \\\n",
    "    .orderBy('occupation') \\\n",
    "    .show()"
   ]
  },
  {
   "cell_type": "code",
   "execution_count": 127,
   "metadata": {},
   "outputs": [
    {
     "data": {
      "text/plain": [
       "0"
      ]
     },
     "execution_count": 127,
     "metadata": {},
     "output_type": "execute_result"
    }
   ],
   "source": [
    "# Let's see if all occupations have at least one woman:\n",
    "\n",
    "# If the result is 0, then every occupation has at least one woman:\n",
    "users.groupBy('occupation', 'gender') \\\n",
    "    .count() \\\n",
    "    .where('gender = \"F\" AND count = 0') \\\n",
    "    .count()"
   ]
  },
  {
   "cell_type": "code",
   "execution_count": 129,
   "metadata": {},
   "outputs": [
    {
     "name": "stdout",
     "output_type": "stream",
     "text": [
      "+-------------+----------+\n",
      "|   occupation|male_ratio|\n",
      "+-------------+----------+\n",
      "|     engineer|      0.97|\n",
      "|   technician|      0.96|\n",
      "|      retired|      0.93|\n",
      "|   programmer|      0.91|\n",
      "|    executive|      0.91|\n",
      "|    scientist|       0.9|\n",
      "|entertainment|      0.89|\n",
      "|       lawyer|      0.83|\n",
      "|     salesman|      0.75|\n",
      "|     educator|      0.73|\n",
      "|      student|      0.69|\n",
      "|        other|      0.66|\n",
      "|    marketing|      0.62|\n",
      "|       writer|      0.58|\n",
      "|         none|      0.56|\n",
      "|       artist|      0.54|\n",
      "|administrator|      0.54|\n",
      "|    librarian|      0.43|\n",
      "|   healthcare|      0.31|\n",
      "|    homemaker|      0.14|\n",
      "|       doctor|      null|\n",
      "+-------------+----------+\n",
      "\n"
     ]
    }
   ],
   "source": [
    "users.groupBy('occupation') \\\n",
    "    .pivot('gender') \\\n",
    "    .count() \\\n",
    "    .selectExpr('occupation', 'ROUND(M / (M + F), 2) as male_ratio') \\\n",
    "    .orderBy('male_ratio', ascending=False) \\\n",
    "    .show(number_of_occupations)"
   ]
  },
  {
   "cell_type": "code",
   "execution_count": 26,
   "metadata": {},
   "outputs": [
    {
     "name": "stdout",
     "output_type": "stream",
     "text": [
      "+-------------+----------+\n",
      "|   occupation|male_ratio|\n",
      "+-------------+----------+\n",
      "|       doctor|       1.0|\n",
      "|     engineer|      0.97|\n",
      "|   technician|      0.96|\n",
      "|      retired|      0.93|\n",
      "|   programmer|      0.91|\n",
      "|    executive|      0.91|\n",
      "|    scientist|       0.9|\n",
      "|entertainment|      0.89|\n",
      "|       lawyer|      0.83|\n",
      "|     salesman|      0.75|\n",
      "|     educator|      0.73|\n",
      "|      student|      0.69|\n",
      "|        other|      0.66|\n",
      "|    marketing|      0.62|\n",
      "|       writer|      0.58|\n",
      "|         none|      0.56|\n",
      "|administrator|      0.54|\n",
      "|       artist|      0.54|\n",
      "|    librarian|      0.43|\n",
      "|   healthcare|      0.31|\n",
      "|    homemaker|      0.14|\n",
      "+-------------+----------+\n",
      "\n"
     ]
    }
   ],
   "source": [
    "# Fixing the null, when there is no male or female for\n",
    "# some occupation.\n",
    "\n",
    "\"\"\"\n",
    "users.groupBy('occupation') \\\n",
    "    .agg(\n",
    "        F.round(\n",
    "            F.sum(\n",
    "                F.when(F.col('gender') == 'M', 1)\n",
    "                .otherwise(0)\n",
    "            ) / F.count('*'), 2) \\\n",
    "        .alias('male_ratio')\n",
    "    ).orderBy('male_ratio', ascending=False) \\\n",
    "    .show()\n",
    "\"\"\"\n",
    "\n",
    "users.groupBy('occupation') \\\n",
    "    .agg(\n",
    "        (F.sum(\n",
    "            F.when(F.col('gender') == 'M', 1)\n",
    "            .otherwise(0)\n",
    "        ) / F.count('*')).alias('male_ratio')\n",
    "    ).selectExpr('occupation', 'ROUND(male_ratio, 2) AS male_ratio') \\\n",
    "    .orderBy('male_ratio', ascending=False) \\\n",
    "    .show(number_of_occupations)\n"
   ]
  },
  {
   "cell_type": "code",
   "execution_count": 28,
   "metadata": {},
   "outputs": [
    {
     "name": "stdout",
     "output_type": "stream",
     "text": [
      "+-------------+----------+\n",
      "|   occupation|male_ratio|\n",
      "+-------------+----------+\n",
      "|       doctor|       1.0|\n",
      "|     engineer|      0.97|\n",
      "|   technician|      0.96|\n",
      "|      retired|      0.93|\n",
      "|   programmer|      0.91|\n",
      "|    executive|      0.91|\n",
      "|    scientist|       0.9|\n",
      "|entertainment|      0.89|\n",
      "|       lawyer|      0.83|\n",
      "|     salesman|      0.75|\n",
      "|     educator|      0.73|\n",
      "|      student|      0.69|\n",
      "|        other|      0.66|\n",
      "|    marketing|      0.62|\n",
      "|       writer|      0.58|\n",
      "|         none|      0.56|\n",
      "|administrator|      0.54|\n",
      "|       artist|      0.54|\n",
      "|    librarian|      0.43|\n",
      "|   healthcare|      0.31|\n",
      "|    homemaker|      0.14|\n",
      "+-------------+----------+\n",
      "\n"
     ]
    }
   ],
   "source": [
    "users.createOrReplaceTempView('users')\n",
    "\n",
    "spark.sql(\n",
    "    \"\"\"\n",
    "    SELECT\n",
    "        occupation,\n",
    "        ROUND(\n",
    "            SUM(\n",
    "                CASE gender\n",
    "                    WHEN \"M\" THEN 1\n",
    "                    ELSE 0\n",
    "                END\n",
    "            ) / COUNT(*),\n",
    "        2) as male_ratio\n",
    "    FROM users\n",
    "    GROUP BY occupation\n",
    "    ORDER BY male_ratio DESC\n",
    "    \"\"\"\n",
    ").show(number_of_occupations)"
   ]
  },
  {
   "cell_type": "markdown",
   "metadata": {},
   "source": [
    "### Step 6. For each occupation, calculate the minimum and maximum ages"
   ]
  },
  {
   "cell_type": "code",
   "execution_count": 137,
   "metadata": {
    "collapsed": false
   },
   "outputs": [
    {
     "name": "stdout",
     "output_type": "stream",
     "text": [
      "+-------------+-------+-------+\n",
      "|   occupation|min_age|max_age|\n",
      "+-------------+-------+-------+\n",
      "|    librarian|     23|     69|\n",
      "|      retired|     51|     73|\n",
      "|       lawyer|     21|     53|\n",
      "|         none|     11|     55|\n",
      "|       writer|     18|     60|\n",
      "|   programmer|     20|     63|\n",
      "|    marketing|     24|     55|\n",
      "|        other|     13|     64|\n",
      "|    executive|     22|     69|\n",
      "|    scientist|     23|     55|\n",
      "|      student|      7|     42|\n",
      "|     salesman|     18|     66|\n",
      "|       artist|     19|     48|\n",
      "|   technician|     21|     55|\n",
      "|administrator|     21|     70|\n",
      "|     engineer|     22|     70|\n",
      "|   healthcare|     22|     62|\n",
      "|     educator|     23|     63|\n",
      "|entertainment|     15|     50|\n",
      "|    homemaker|     20|     50|\n",
      "+-------------+-------+-------+\n",
      "only showing top 20 rows\n",
      "\n"
     ]
    }
   ],
   "source": [
    "users.groupBy('occupation') \\\n",
    "    .agg(\n",
    "        F.min('age').alias('min_age'),\n",
    "        F.max('age').alias('max_age')\n",
    "    ).show()"
   ]
  },
  {
   "cell_type": "markdown",
   "metadata": {},
   "source": [
    "### Step 7. For each combination of occupation and gender, calculate the mean age"
   ]
  },
  {
   "cell_type": "code",
   "execution_count": 142,
   "metadata": {
    "collapsed": false
   },
   "outputs": [
    {
     "name": "stdout",
     "output_type": "stream",
     "text": [
      "+-------------+------+--------+\n",
      "|   occupation|gender|mean_age|\n",
      "+-------------+------+--------+\n",
      "|administrator|     F|   40.64|\n",
      "|administrator|     M|   37.16|\n",
      "|       artist|     F|   30.31|\n",
      "|       artist|     M|   32.33|\n",
      "|       doctor|     M|   43.57|\n",
      "|     educator|     F|   39.12|\n",
      "|     educator|     M|    43.1|\n",
      "|     engineer|     F|    29.5|\n",
      "|     engineer|     M|    36.6|\n",
      "|entertainment|     F|    31.0|\n",
      "|entertainment|     M|    29.0|\n",
      "|    executive|     F|    44.0|\n",
      "|    executive|     M|   38.17|\n",
      "|   healthcare|     F|   39.82|\n",
      "|   healthcare|     M|    45.4|\n",
      "|    homemaker|     F|   34.17|\n",
      "|    homemaker|     M|    23.0|\n",
      "|       lawyer|     F|    39.5|\n",
      "|       lawyer|     M|    36.2|\n",
      "|    librarian|     F|    40.0|\n",
      "+-------------+------+--------+\n",
      "only showing top 20 rows\n",
      "\n"
     ]
    }
   ],
   "source": [
    "users.groupBy('occupation', 'gender') \\\n",
    "    .agg(F.round(F.avg('age'), 2).alias('mean_age')) \\\n",
    "    .orderBy('occupation', 'gender') \\\n",
    "    .show()"
   ]
  },
  {
   "cell_type": "markdown",
   "metadata": {},
   "source": [
    "### Step 8.  For each occupation present the percentage of women and men"
   ]
  },
  {
   "cell_type": "code",
   "execution_count": 29,
   "metadata": {
    "collapsed": false
   },
   "outputs": [
    {
     "name": "stdout",
     "output_type": "stream",
     "text": [
      "+-------------+-----------+-------------------+-----------------+\n",
      "|   occupation|total_count|percentage_of_women|percentage_of_men|\n",
      "+-------------+-----------+-------------------+-----------------+\n",
      "|administrator|         79|               0.46|             0.54|\n",
      "|       artist|         28|               0.46|             0.54|\n",
      "|       doctor|          7|                0.0|              1.0|\n",
      "|     educator|         95|               0.27|             0.73|\n",
      "|     engineer|         67|               0.03|             0.97|\n",
      "|entertainment|         18|               0.11|             0.89|\n",
      "|    executive|         32|               0.09|             0.91|\n",
      "|   healthcare|         16|               0.69|             0.31|\n",
      "|    homemaker|          7|               0.86|             0.14|\n",
      "|       lawyer|         12|               0.17|             0.83|\n",
      "|    librarian|         51|               0.57|             0.43|\n",
      "|    marketing|         26|               0.38|             0.62|\n",
      "|         none|          9|               0.44|             0.56|\n",
      "|        other|        105|               0.34|             0.66|\n",
      "|   programmer|         66|               0.09|             0.91|\n",
      "|      retired|         14|               0.07|             0.93|\n",
      "|     salesman|         12|               0.25|             0.75|\n",
      "|    scientist|         31|                0.1|              0.9|\n",
      "|      student|        196|               0.31|             0.69|\n",
      "|   technician|         27|               0.04|             0.96|\n",
      "|       writer|         45|               0.42|             0.58|\n",
      "+-------------+-----------+-------------------+-----------------+\n",
      "\n"
     ]
    }
   ],
   "source": [
    "spark.sql(\n",
    "    \"\"\"\n",
    "    SELECT\n",
    "        occupation,\n",
    "        COUNT(*) AS total_count,\n",
    "        ROUND(\n",
    "            SUM(\n",
    "                CASE\n",
    "                    WHEN gender = \"F\" THEN 1\n",
    "                    ELSE 0\n",
    "                END\n",
    "            ) / COUNT(*), 2\n",
    "        ) AS percentage_of_women,\n",
    "        ROUND(\n",
    "            SUM(\n",
    "                CASE\n",
    "                    WHEN gender = \"M\" THEN 1\n",
    "                    ELSE 0\n",
    "                END\n",
    "            ) / COUNT(*), 2\n",
    "        ) AS percentage_of_men\n",
    "    FROM users\n",
    "    GROUP BY occupation\n",
    "    ORDER BY occupation\n",
    "    \"\"\"\n",
    ").show(number_of_occupations)"
   ]
  },
  {
   "cell_type": "code",
   "execution_count": 30,
   "metadata": {},
   "outputs": [],
   "source": [
    "spark.stop()"
   ]
  }
 ],
 "metadata": {
  "kernelspec": {
   "display_name": "venv",
   "language": "python",
   "name": "python3"
  },
  "language_info": {
   "codemirror_mode": {
    "name": "ipython",
    "version": 3
   },
   "file_extension": ".py",
   "mimetype": "text/x-python",
   "name": "python",
   "nbconvert_exporter": "python",
   "pygments_lexer": "ipython3",
   "version": "3.10.4"
  },
  "vscode": {
   "interpreter": {
    "hash": "c670f1e3c6dae00aae88225bb7246b8f813ed6f89d3f1195848091ec06f6428b"
   }
  }
 },
 "nbformat": 4,
 "nbformat_minor": 0
}
